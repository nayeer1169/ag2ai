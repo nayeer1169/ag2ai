{
  "nbformat": 4,
  "nbformat_minor": 0,
  "metadata": {
    "colab": {
      "provenance": []
    },
    "kernelspec": {
      "name": "python3",
      "display_name": "Python 3"
    },
    "language_info": {
      "name": "python"
    }
  },
  "cells": [
    {
      "cell_type": "code",
      "source": [
        "!pip install autogen"
      ],
      "metadata": {
        "colab": {
          "base_uri": "https://localhost:8080/"
        },
        "id": "yoHtohsDvJj6",
        "outputId": "167813a7-ccfe-405d-9b4a-a1b36095a282"
      },
      "execution_count": 1,
      "outputs": [
        {
          "output_type": "stream",
          "name": "stdout",
          "text": [
            "Collecting autogen\n",
            "  Downloading autogen-0.7.0-py3-none-any.whl.metadata (21 kB)\n",
            "Collecting pyautogen==0.7.0 (from autogen)\n",
            "  Downloading pyautogen-0.7.0-py3-none-any.whl.metadata (28 kB)\n",
            "Collecting asyncer==0.0.8 (from pyautogen==0.7.0->autogen)\n",
            "  Downloading asyncer-0.0.8-py3-none-any.whl.metadata (6.7 kB)\n",
            "Collecting diskcache (from pyautogen==0.7.0->autogen)\n",
            "  Downloading diskcache-5.6.3-py3-none-any.whl.metadata (20 kB)\n",
            "Collecting docker (from pyautogen==0.7.0->autogen)\n",
            "  Downloading docker-7.1.0-py3-none-any.whl.metadata (3.8 kB)\n",
            "Collecting fast-depends<3,>=2.4.12 (from pyautogen==0.7.0->autogen)\n",
            "  Downloading fast_depends-2.4.12-py3-none-any.whl.metadata (7.6 kB)\n",
            "Collecting flaml (from pyautogen==0.7.0->autogen)\n",
            "  Downloading FLAML-2.3.3-py3-none-any.whl.metadata (16 kB)\n",
            "Requirement already satisfied: numpy<2.0.0,>=1.24.0 in /usr/local/lib/python3.10/dist-packages (from pyautogen==0.7.0->autogen) (1.26.4)\n",
            "Requirement already satisfied: openai>=1.58 in /usr/local/lib/python3.10/dist-packages (from pyautogen==0.7.0->autogen) (1.59.4)\n",
            "Requirement already satisfied: packaging in /usr/local/lib/python3.10/dist-packages (from pyautogen==0.7.0->autogen) (24.2)\n",
            "Requirement already satisfied: pydantic!=2.6.0,<3,>=1.10 in /usr/local/lib/python3.10/dist-packages (from pyautogen==0.7.0->autogen) (2.10.4)\n",
            "Collecting python-dotenv (from pyautogen==0.7.0->autogen)\n",
            "  Downloading python_dotenv-1.0.1-py3-none-any.whl.metadata (23 kB)\n",
            "Requirement already satisfied: termcolor in /usr/local/lib/python3.10/dist-packages (from pyautogen==0.7.0->autogen) (2.5.0)\n",
            "Collecting tiktoken (from pyautogen==0.7.0->autogen)\n",
            "  Downloading tiktoken-0.8.0-cp310-cp310-manylinux_2_17_x86_64.manylinux2014_x86_64.whl.metadata (6.6 kB)\n",
            "Requirement already satisfied: websockets<15,>=14 in /usr/local/lib/python3.10/dist-packages (from pyautogen==0.7.0->autogen) (14.1)\n",
            "Requirement already satisfied: anyio<5.0,>=3.4.0 in /usr/local/lib/python3.10/dist-packages (from asyncer==0.0.8->pyautogen==0.7.0->autogen) (3.7.1)\n",
            "Requirement already satisfied: distro<2,>=1.7.0 in /usr/local/lib/python3.10/dist-packages (from openai>=1.58->pyautogen==0.7.0->autogen) (1.9.0)\n",
            "Requirement already satisfied: httpx<1,>=0.23.0 in /usr/local/lib/python3.10/dist-packages (from openai>=1.58->pyautogen==0.7.0->autogen) (0.28.1)\n",
            "Requirement already satisfied: jiter<1,>=0.4.0 in /usr/local/lib/python3.10/dist-packages (from openai>=1.58->pyautogen==0.7.0->autogen) (0.8.2)\n",
            "Requirement already satisfied: sniffio in /usr/local/lib/python3.10/dist-packages (from openai>=1.58->pyautogen==0.7.0->autogen) (1.3.1)\n",
            "Requirement already satisfied: tqdm>4 in /usr/local/lib/python3.10/dist-packages (from openai>=1.58->pyautogen==0.7.0->autogen) (4.67.1)\n",
            "Requirement already satisfied: typing-extensions<5,>=4.11 in /usr/local/lib/python3.10/dist-packages (from openai>=1.58->pyautogen==0.7.0->autogen) (4.12.2)\n",
            "Requirement already satisfied: annotated-types>=0.6.0 in /usr/local/lib/python3.10/dist-packages (from pydantic!=2.6.0,<3,>=1.10->pyautogen==0.7.0->autogen) (0.7.0)\n",
            "Requirement already satisfied: pydantic-core==2.27.2 in /usr/local/lib/python3.10/dist-packages (from pydantic!=2.6.0,<3,>=1.10->pyautogen==0.7.0->autogen) (2.27.2)\n",
            "Requirement already satisfied: requests>=2.26.0 in /usr/local/lib/python3.10/dist-packages (from docker->pyautogen==0.7.0->autogen) (2.32.3)\n",
            "Requirement already satisfied: urllib3>=1.26.0 in /usr/local/lib/python3.10/dist-packages (from docker->pyautogen==0.7.0->autogen) (2.3.0)\n",
            "Requirement already satisfied: regex>=2022.1.18 in /usr/local/lib/python3.10/dist-packages (from tiktoken->pyautogen==0.7.0->autogen) (2024.11.6)\n",
            "Requirement already satisfied: idna>=2.8 in /usr/local/lib/python3.10/dist-packages (from anyio<5.0,>=3.4.0->asyncer==0.0.8->pyautogen==0.7.0->autogen) (3.10)\n",
            "Requirement already satisfied: exceptiongroup in /usr/local/lib/python3.10/dist-packages (from anyio<5.0,>=3.4.0->asyncer==0.0.8->pyautogen==0.7.0->autogen) (1.2.2)\n",
            "Requirement already satisfied: certifi in /usr/local/lib/python3.10/dist-packages (from httpx<1,>=0.23.0->openai>=1.58->pyautogen==0.7.0->autogen) (2024.12.14)\n",
            "Requirement already satisfied: httpcore==1.* in /usr/local/lib/python3.10/dist-packages (from httpx<1,>=0.23.0->openai>=1.58->pyautogen==0.7.0->autogen) (1.0.7)\n",
            "Requirement already satisfied: h11<0.15,>=0.13 in /usr/local/lib/python3.10/dist-packages (from httpcore==1.*->httpx<1,>=0.23.0->openai>=1.58->pyautogen==0.7.0->autogen) (0.14.0)\n",
            "Requirement already satisfied: charset-normalizer<4,>=2 in /usr/local/lib/python3.10/dist-packages (from requests>=2.26.0->docker->pyautogen==0.7.0->autogen) (3.4.1)\n",
            "Downloading autogen-0.7.0-py3-none-any.whl (13 kB)\n",
            "Downloading pyautogen-0.7.0-py3-none-any.whl (497 kB)\n",
            "\u001b[2K   \u001b[90m━━━━━━━━━━━━━━━━━━━━━━━━━━━━━━━━━━━━━━━━\u001b[0m \u001b[32m497.3/497.3 kB\u001b[0m \u001b[31m8.7 MB/s\u001b[0m eta \u001b[36m0:00:00\u001b[0m\n",
            "\u001b[?25hDownloading asyncer-0.0.8-py3-none-any.whl (9.2 kB)\n",
            "Downloading fast_depends-2.4.12-py3-none-any.whl (17 kB)\n",
            "Downloading diskcache-5.6.3-py3-none-any.whl (45 kB)\n",
            "\u001b[2K   \u001b[90m━━━━━━━━━━━━━━━━━━━━━━━━━━━━━━━━━━━━━━━━\u001b[0m \u001b[32m45.5/45.5 kB\u001b[0m \u001b[31m3.5 MB/s\u001b[0m eta \u001b[36m0:00:00\u001b[0m\n",
            "\u001b[?25hDownloading docker-7.1.0-py3-none-any.whl (147 kB)\n",
            "\u001b[2K   \u001b[90m━━━━━━━━━━━━━━━━━━━━━━━━━━━━━━━━━━━━━━━━\u001b[0m \u001b[32m147.8/147.8 kB\u001b[0m \u001b[31m16.0 MB/s\u001b[0m eta \u001b[36m0:00:00\u001b[0m\n",
            "\u001b[?25hDownloading FLAML-2.3.3-py3-none-any.whl (314 kB)\n",
            "\u001b[2K   \u001b[90m━━━━━━━━━━━━━━━━━━━━━━━━━━━━━━━━━━━━━━━━\u001b[0m \u001b[32m314.2/314.2 kB\u001b[0m \u001b[31m28.1 MB/s\u001b[0m eta \u001b[36m0:00:00\u001b[0m\n",
            "\u001b[?25hDownloading python_dotenv-1.0.1-py3-none-any.whl (19 kB)\n",
            "Downloading tiktoken-0.8.0-cp310-cp310-manylinux_2_17_x86_64.manylinux2014_x86_64.whl (1.2 MB)\n",
            "\u001b[2K   \u001b[90m━━━━━━━━━━━━━━━━━━━━━━━━━━━━━━━━━━━━━━━━\u001b[0m \u001b[32m1.2/1.2 MB\u001b[0m \u001b[31m36.0 MB/s\u001b[0m eta \u001b[36m0:00:00\u001b[0m\n",
            "\u001b[?25hInstalling collected packages: python-dotenv, flaml, diskcache, tiktoken, docker, asyncer, fast-depends, pyautogen, autogen\n",
            "Successfully installed asyncer-0.0.8 autogen-0.7.0 diskcache-5.6.3 docker-7.1.0 fast-depends-2.4.12 flaml-2.3.3 pyautogen-0.7.0 python-dotenv-1.0.1 tiktoken-0.8.0\n"
          ]
        }
      ]
    },
    {
      "cell_type": "code",
      "source": [
        "!pip install dask[dataframe]\n"
      ],
      "metadata": {
        "colab": {
          "base_uri": "https://localhost:8080/"
        },
        "id": "5Fmqe8ypvwJa",
        "outputId": "2c48db58-906c-41bc-b135-3eb273756679"
      },
      "execution_count": 2,
      "outputs": [
        {
          "output_type": "stream",
          "name": "stdout",
          "text": [
            "Requirement already satisfied: dask[dataframe] in /usr/local/lib/python3.10/dist-packages (2024.10.0)\n",
            "Requirement already satisfied: click>=8.1 in /usr/local/lib/python3.10/dist-packages (from dask[dataframe]) (8.1.8)\n",
            "Requirement already satisfied: cloudpickle>=3.0.0 in /usr/local/lib/python3.10/dist-packages (from dask[dataframe]) (3.1.0)\n",
            "Requirement already satisfied: fsspec>=2021.09.0 in /usr/local/lib/python3.10/dist-packages (from dask[dataframe]) (2024.10.0)\n",
            "Requirement already satisfied: packaging>=20.0 in /usr/local/lib/python3.10/dist-packages (from dask[dataframe]) (24.2)\n",
            "Requirement already satisfied: partd>=1.4.0 in /usr/local/lib/python3.10/dist-packages (from dask[dataframe]) (1.4.2)\n",
            "Requirement already satisfied: pyyaml>=5.3.1 in /usr/local/lib/python3.10/dist-packages (from dask[dataframe]) (6.0.2)\n",
            "Requirement already satisfied: toolz>=0.10.0 in /usr/local/lib/python3.10/dist-packages (from dask[dataframe]) (0.12.1)\n",
            "Requirement already satisfied: importlib-metadata>=4.13.0 in /usr/local/lib/python3.10/dist-packages (from dask[dataframe]) (8.5.0)\n",
            "Requirement already satisfied: pandas>=2.0 in /usr/local/lib/python3.10/dist-packages (from dask[dataframe]) (2.2.2)\n",
            "Collecting dask-expr<1.2,>=1.1 (from dask[dataframe])\n",
            "  Downloading dask_expr-1.1.21-py3-none-any.whl.metadata (2.6 kB)\n",
            "INFO: pip is looking at multiple versions of dask-expr to determine which version is compatible with other requirements. This could take a while.\n",
            "  Downloading dask_expr-1.1.20-py3-none-any.whl.metadata (2.6 kB)\n",
            "  Downloading dask_expr-1.1.19-py3-none-any.whl.metadata (2.6 kB)\n",
            "  Downloading dask_expr-1.1.18-py3-none-any.whl.metadata (2.6 kB)\n",
            "  Downloading dask_expr-1.1.16-py3-none-any.whl.metadata (2.5 kB)\n",
            "Requirement already satisfied: pyarrow>=14.0.1 in /usr/local/lib/python3.10/dist-packages (from dask-expr<1.2,>=1.1->dask[dataframe]) (17.0.0)\n",
            "Requirement already satisfied: zipp>=3.20 in /usr/local/lib/python3.10/dist-packages (from importlib-metadata>=4.13.0->dask[dataframe]) (3.21.0)\n",
            "Requirement already satisfied: numpy>=1.22.4 in /usr/local/lib/python3.10/dist-packages (from pandas>=2.0->dask[dataframe]) (1.26.4)\n",
            "Requirement already satisfied: python-dateutil>=2.8.2 in /usr/local/lib/python3.10/dist-packages (from pandas>=2.0->dask[dataframe]) (2.8.2)\n",
            "Requirement already satisfied: pytz>=2020.1 in /usr/local/lib/python3.10/dist-packages (from pandas>=2.0->dask[dataframe]) (2024.2)\n",
            "Requirement already satisfied: tzdata>=2022.7 in /usr/local/lib/python3.10/dist-packages (from pandas>=2.0->dask[dataframe]) (2024.2)\n",
            "Requirement already satisfied: locket in /usr/local/lib/python3.10/dist-packages (from partd>=1.4.0->dask[dataframe]) (1.0.0)\n",
            "Requirement already satisfied: six>=1.5 in /usr/local/lib/python3.10/dist-packages (from python-dateutil>=2.8.2->pandas>=2.0->dask[dataframe]) (1.17.0)\n",
            "Downloading dask_expr-1.1.16-py3-none-any.whl (243 kB)\n",
            "\u001b[2K   \u001b[90m━━━━━━━━━━━━━━━━━━━━━━━━━━━━━━━━━━━━━━━━\u001b[0m \u001b[32m243.2/243.2 kB\u001b[0m \u001b[31m4.4 MB/s\u001b[0m eta \u001b[36m0:00:00\u001b[0m\n",
            "\u001b[?25hInstalling collected packages: dask-expr\n",
            "Successfully installed dask-expr-1.1.16\n"
          ]
        }
      ]
    },
    {
      "cell_type": "code",
      "source": [
        "import os\n",
        "os.environ[\"OPENAI_API_KEY\"] = \"...\" # Replace YOUR_API_KEY with your actual API key"
      ],
      "metadata": {
        "id": "-d6dcJ853aHq"
      },
      "execution_count": 3,
      "outputs": []
    },
    {
      "cell_type": "code",
      "execution_count": 4,
      "metadata": {
        "id": "eYHjOTQUrP-F"
      },
      "outputs": [],
      "source": [
        "#importing the libraries , configuration of which model we are using\n",
        "from IPython.display import display , Image\n",
        "\n",
        "import autogen\n",
        "from autogen.coding import LocalCommandLineCodeExecutor\n",
        "config_list = autogen.config_list_from_json(\n",
        "    \"OAI_CONFIG_LIST.json\",\n",
        "    filter_dict={\"tags\":[\"gpt-4o\"]}\n",
        ")"
      ]
    },
    {
      "cell_type": "code",
      "source": [
        "#Example 1 - Checking the stock price change\n",
        "#first we will create the assiastant agent\n",
        "assistant = autogen.AssistantAgent(\n",
        "    name=\"assistant\",\n",
        "    llm_config={\n",
        "        \"cache_seed\":41,\n",
        "        \"config_list\": config_list,\n",
        "        \"temperature\": 0,\n",
        "        \"model\": \"gpt-4o\"\n",
        "    }\n",
        ")\n",
        "\n",
        "#creating the userProxy agent\n",
        "user_proxy = autogen.UserProxyAgent(\n",
        "    name=\"user_proxy\",\n",
        "    human_input_mode=\"NEVER\",\n",
        "    max_consecutive_auto_reply=10,\n",
        "    is_termination_msg=lambda x: x.get(\"content\", \"\").rstrip().endswith(\"TERMINATE\"),\n",
        "    code_execution_config={\n",
        "        \"executor\" : LocalCommandLineCodeExecutor(work_dir=\"coding\"),\n",
        "    }\n",
        ")\n",
        "\n",
        "chat_res = user_proxy.initiate_chat(\n",
        "    assistant,\n",
        "    message=\"\"\"What date is today? Compare the year-to-date gain for META and TESLA.\"\"\",\n",
        "    summary_method= \"reflection_with_llm\"\n",
        ")"
      ],
      "metadata": {
        "id": "n92mQfBbvJCf",
        "colab": {
          "base_uri": "https://localhost:8080/"
        },
        "outputId": "1df5686a-b8a8-4528-b76d-e41a27d9e876"
      },
      "execution_count": 5,
      "outputs": [
        {
          "output_type": "stream",
          "name": "stdout",
          "text": [
            "user_proxy (to assistant):\n",
            "\n",
            "What date is today? Compare the year-to-date gain for META and TESLA.\n",
            "\n",
            "--------------------------------------------------------------------------------\n",
            "assistant (to user_proxy):\n",
            "\n",
            "To compare the year-to-date gain for META (Meta Platforms, Inc.) and TESLA (Tesla, Inc.), we need to follow these steps:\n",
            "\n",
            "1. **Get the current date**: We'll use Python to get today's date.\n",
            "2. **Fetch stock data**: We'll retrieve the stock prices for META and TESLA from the beginning of the year to today.\n",
            "3. **Calculate year-to-date gain**: We'll calculate the percentage gain for each stock from the start of the year to today.\n",
            "\n",
            "Let's start by getting the current date and then proceed to fetch the stock data.\n",
            "\n",
            "```python\n",
            "from datetime import datetime\n",
            "\n",
            "# Get today's date\n",
            "today = datetime.now().date()\n",
            "print(f\"Today's date is: {today}\")\n",
            "```\n",
            "\n",
            "Please execute the code above to get today's date. Once we have the date, we'll proceed to fetch the stock data.\n",
            "\n",
            "--------------------------------------------------------------------------------\n",
            "\n",
            ">>>>>>>> EXECUTING CODE BLOCK (inferred language is python)...\n",
            "user_proxy (to assistant):\n",
            "\n",
            "exitcode: 0 (execution succeeded)\n",
            "Code output: Today's date is: 2025-01-11\n",
            "\n",
            "\n",
            "--------------------------------------------------------------------------------\n",
            "assistant (to user_proxy):\n",
            "\n",
            "Great! Now that we have today's date, January 11, 2025, we can proceed to fetch the stock data for META and TESLA from the beginning of the year (January 1, 2025) to today. We'll use a financial data API to get the stock prices. Let's proceed with fetching the data and calculating the year-to-date gain.\n",
            "\n",
            "```python\n",
            "# filename: ytd_gain.py\n",
            "\n",
            "import yfinance as yf\n",
            "from datetime import datetime\n",
            "\n",
            "# Define the stock symbols and the start date\n",
            "stocks = ['META', 'TSLA']\n",
            "start_date = '2025-01-01'\n",
            "end_date = datetime.now().strftime('%Y-%m-%d')\n",
            "\n",
            "# Fetch the stock data\n",
            "data = yf.download(stocks, start=start_date, end=end_date)\n",
            "\n",
            "# Calculate the year-to-date gain\n",
            "ytd_gain = {}\n",
            "for stock in stocks:\n",
            "    start_price = data['Adj Close'][stock].iloc[0]\n",
            "    end_price = data['Adj Close'][stock].iloc[-1]\n",
            "    gain = ((end_price - start_price) / start_price) * 100\n",
            "    ytd_gain[stock] = gain\n",
            "\n",
            "# Print the year-to-date gain\n",
            "for stock, gain in ytd_gain.items():\n",
            "    print(f\"Year-to-date gain for {stock}: {gain:.2f}%\")\n",
            "```\n",
            "\n",
            "Please save the code in a file named `ytd_gain.py` and execute it. This will calculate and print the year-to-date gain for META and TESLA.\n",
            "\n",
            "--------------------------------------------------------------------------------\n",
            "\n",
            ">>>>>>>> EXECUTING CODE BLOCK (inferred language is python)...\n",
            "user_proxy (to assistant):\n",
            "\n",
            "exitcode: 1 (execution failed)\n",
            "Code output: \n",
            "[                       0%                       ]\n",
            "[*********************100%***********************]  2 of 2 completed\n",
            "Traceback (most recent call last):\n",
            "  File \"/usr/local/lib/python3.10/dist-packages/pandas/core/indexes/base.py\", line 3805, in get_loc\n",
            "    return self._engine.get_loc(casted_key)\n",
            "  File \"index.pyx\", line 167, in pandas._libs.index.IndexEngine.get_loc\n",
            "  File \"index.pyx\", line 196, in pandas._libs.index.IndexEngine.get_loc\n",
            "  File \"pandas/_libs/hashtable_class_helper.pxi\", line 7081, in pandas._libs.hashtable.PyObjectHashTable.get_item\n",
            "  File \"pandas/_libs/hashtable_class_helper.pxi\", line 7089, in pandas._libs.hashtable.PyObjectHashTable.get_item\n",
            "KeyError: 'Adj Close'\n",
            "\n",
            "The above exception was the direct cause of the following exception:\n",
            "\n",
            "Traceback (most recent call last):\n",
            "  File \"/content/coding/ytd_gain.py\", line 17, in <module>\n",
            "    start_price = data['Adj Close'][stock].iloc[0]\n",
            "  File \"/usr/local/lib/python3.10/dist-packages/pandas/core/frame.py\", line 4101, in __getitem__\n",
            "    return self._getitem_multilevel(key)\n",
            "  File \"/usr/local/lib/python3.10/dist-packages/pandas/core/frame.py\", line 4159, in _getitem_multilevel\n",
            "    loc = self.columns.get_loc(key)\n",
            "  File \"/usr/local/lib/python3.10/dist-packages/pandas/core/indexes/multi.py\", line 3040, in get_loc\n",
            "    loc = self._get_level_indexer(key, level=0)\n",
            "  File \"/usr/local/lib/python3.10/dist-packages/pandas/core/indexes/multi.py\", line 3391, in _get_level_indexer\n",
            "    idx = self._get_loc_single_level_index(level_index, key)\n",
            "  File \"/usr/local/lib/python3.10/dist-packages/pandas/core/indexes/multi.py\", line 2980, in _get_loc_single_level_index\n",
            "    return level_index.get_loc(key)\n",
            "  File \"/usr/local/lib/python3.10/dist-packages/pandas/core/indexes/base.py\", line 3812, in get_loc\n",
            "    raise KeyError(key) from err\n",
            "KeyError: 'Adj Close'\n",
            "\n",
            "\n",
            "--------------------------------------------------------------------------------\n",
            "assistant (to user_proxy):\n",
            "\n",
            "The error indicates that the 'Adj Close' column is not present in the data. This might be due to the structure of the data returned by `yfinance`. Let's adjust the code to handle the data correctly.\n",
            "\n",
            "We'll check the structure of the data and use the correct column names. Let's fix the code:\n",
            "\n",
            "```python\n",
            "# filename: ytd_gain.py\n",
            "\n",
            "import yfinance as yf\n",
            "from datetime import datetime\n",
            "\n",
            "# Define the stock symbols and the start date\n",
            "stocks = ['META', 'TSLA']\n",
            "start_date = '2025-01-01'\n",
            "end_date = datetime.now().strftime('%Y-%m-%d')\n",
            "\n",
            "# Fetch the stock data\n",
            "data = yf.download(stocks, start=start_date, end=end_date)\n",
            "\n",
            "# Check the structure of the data\n",
            "print(data.head())\n",
            "\n",
            "# Calculate the year-to-date gain\n",
            "ytd_gain = {}\n",
            "for stock in stocks:\n",
            "    start_price = data['Close'][stock].iloc[0]\n",
            "    end_price = data['Close'][stock].iloc[-1]\n",
            "    gain = ((end_price - start_price) / start_price) * 100\n",
            "    ytd_gain[stock] = gain\n",
            "\n",
            "# Print the year-to-date gain\n",
            "for stock, gain in ytd_gain.items():\n",
            "    print(f\"Year-to-date gain for {stock}: {gain:.2f}%\")\n",
            "```\n",
            "\n",
            "Please save the code in a file named `ytd_gain.py` and execute it again. This time, it will print the structure of the data to ensure we are using the correct columns, and then calculate the year-to-date gain.\n",
            "\n",
            "--------------------------------------------------------------------------------\n",
            "\n",
            ">>>>>>>> EXECUTING CODE BLOCK (inferred language is python)...\n",
            "user_proxy (to assistant):\n",
            "\n",
            "exitcode: 0 (execution succeeded)\n",
            "Code output: \n",
            "[                       0%                       ]\n",
            "[*********************100%***********************]  2 of 2 completed\n",
            "Price            Close                    High  ...        Open    Volume           \n",
            "Ticker            META        TSLA        META  ...        TSLA      META       TSLA\n",
            "Date                                            ...                                 \n",
            "2025-01-02  599.239990  379.279999  604.909973  ...  390.100006  12682300  109710700\n",
            "2025-01-03  604.630005  410.440002  609.500000  ...  381.480011  11436800   95423300\n",
            "2025-01-06  630.200012  411.049988  630.989990  ...  423.200012  14560800   85516500\n",
            "2025-01-07  617.890015  394.359985  632.099976  ...  405.829987  12071500   75699500\n",
            "2025-01-08  610.719971  394.940002  616.440002  ...  392.950012  10085800   73038800\n",
            "\n",
            "[5 rows x 10 columns]\n",
            "Year-to-date gain for META: 2.77%\n",
            "Year-to-date gain for TSLA: 4.08%\n",
            "\n",
            "\n",
            "--------------------------------------------------------------------------------\n",
            "assistant (to user_proxy):\n",
            "\n",
            "The code executed successfully, and we have the year-to-date gains for both META and TESLA:\n",
            "\n",
            "- **META (Meta Platforms, Inc.)**: 2.77%\n",
            "- **TESLA (Tesla, Inc.)**: 4.08%\n",
            "\n",
            "This means that from January 1, 2025, to January 11, 2025, TESLA has experienced a higher percentage gain compared to META.\n",
            "\n",
            "If you have any more questions or need further assistance, feel free to ask. TERMINATE\n",
            "\n",
            "--------------------------------------------------------------------------------\n"
          ]
        }
      ]
    },
    {
      "cell_type": "code",
      "source": [
        "print(\"Chat History : \" , chat_res.chat_history)\n",
        "\n",
        "print(\"Summary : \", chat_res.summary)\n",
        "print(\"Cost Info : \", chat_res.cost)"
      ],
      "metadata": {
        "colab": {
          "base_uri": "https://localhost:8080/"
        },
        "id": "32TwQDrv2uk7",
        "outputId": "ef0d7177-946c-41a2-a741-65f8633670a1"
      },
      "execution_count": 9,
      "outputs": [
        {
          "output_type": "stream",
          "name": "stdout",
          "text": [
            "Chat History :  [{'content': 'What date is today? Compare the year-to-date gain for META and TESLA.', 'role': 'assistant', 'name': 'user_proxy'}, {'content': 'To compare the year-to-date gain for META (Meta Platforms, Inc.) and TESLA (Tesla, Inc.), we need to follow these steps:\\n\\n1. **Get the current date**: We\\'ll use Python to get today\\'s date.\\n2. **Fetch stock data**: We\\'ll retrieve the stock prices for META and TESLA from the beginning of the year to today.\\n3. **Calculate year-to-date gain**: We\\'ll calculate the percentage gain for each stock from the start of the year to today.\\n\\nLet\\'s start by getting the current date and then proceed to fetch the stock data.\\n\\n```python\\nfrom datetime import datetime\\n\\n# Get today\\'s date\\ntoday = datetime.now().date()\\nprint(f\"Today\\'s date is: {today}\")\\n```\\n\\nPlease execute the code above to get today\\'s date. Once we have the date, we\\'ll proceed to fetch the stock data.', 'role': 'user', 'name': 'assistant'}, {'content': \"exitcode: 0 (execution succeeded)\\nCode output: Today's date is: 2025-01-11\\n\", 'role': 'assistant', 'name': 'user_proxy'}, {'content': 'Great! Now that we have today\\'s date, January 11, 2025, we can proceed to fetch the stock data for META and TESLA from the beginning of the year (January 1, 2025) to today. We\\'ll use a financial data API to get the stock prices. Let\\'s proceed with fetching the data and calculating the year-to-date gain.\\n\\n```python\\n# filename: ytd_gain.py\\n\\nimport yfinance as yf\\nfrom datetime import datetime\\n\\n# Define the stock symbols and the start date\\nstocks = [\\'META\\', \\'TSLA\\']\\nstart_date = \\'2025-01-01\\'\\nend_date = datetime.now().strftime(\\'%Y-%m-%d\\')\\n\\n# Fetch the stock data\\ndata = yf.download(stocks, start=start_date, end=end_date)\\n\\n# Calculate the year-to-date gain\\nytd_gain = {}\\nfor stock in stocks:\\n    start_price = data[\\'Adj Close\\'][stock].iloc[0]\\n    end_price = data[\\'Adj Close\\'][stock].iloc[-1]\\n    gain = ((end_price - start_price) / start_price) * 100\\n    ytd_gain[stock] = gain\\n\\n# Print the year-to-date gain\\nfor stock, gain in ytd_gain.items():\\n    print(f\"Year-to-date gain for {stock}: {gain:.2f}%\")\\n```\\n\\nPlease save the code in a file named `ytd_gain.py` and execute it. This will calculate and print the year-to-date gain for META and TESLA.', 'role': 'user', 'name': 'assistant'}, {'content': 'exitcode: 1 (execution failed)\\nCode output: \\n[                       0%                       ]\\n[*********************100%***********************]  2 of 2 completed\\nTraceback (most recent call last):\\n  File \"/usr/local/lib/python3.10/dist-packages/pandas/core/indexes/base.py\", line 3805, in get_loc\\n    return self._engine.get_loc(casted_key)\\n  File \"index.pyx\", line 167, in pandas._libs.index.IndexEngine.get_loc\\n  File \"index.pyx\", line 196, in pandas._libs.index.IndexEngine.get_loc\\n  File \"pandas/_libs/hashtable_class_helper.pxi\", line 7081, in pandas._libs.hashtable.PyObjectHashTable.get_item\\n  File \"pandas/_libs/hashtable_class_helper.pxi\", line 7089, in pandas._libs.hashtable.PyObjectHashTable.get_item\\nKeyError: \\'Adj Close\\'\\n\\nThe above exception was the direct cause of the following exception:\\n\\nTraceback (most recent call last):\\n  File \"/content/coding/ytd_gain.py\", line 17, in <module>\\n    start_price = data[\\'Adj Close\\'][stock].iloc[0]\\n  File \"/usr/local/lib/python3.10/dist-packages/pandas/core/frame.py\", line 4101, in __getitem__\\n    return self._getitem_multilevel(key)\\n  File \"/usr/local/lib/python3.10/dist-packages/pandas/core/frame.py\", line 4159, in _getitem_multilevel\\n    loc = self.columns.get_loc(key)\\n  File \"/usr/local/lib/python3.10/dist-packages/pandas/core/indexes/multi.py\", line 3040, in get_loc\\n    loc = self._get_level_indexer(key, level=0)\\n  File \"/usr/local/lib/python3.10/dist-packages/pandas/core/indexes/multi.py\", line 3391, in _get_level_indexer\\n    idx = self._get_loc_single_level_index(level_index, key)\\n  File \"/usr/local/lib/python3.10/dist-packages/pandas/core/indexes/multi.py\", line 2980, in _get_loc_single_level_index\\n    return level_index.get_loc(key)\\n  File \"/usr/local/lib/python3.10/dist-packages/pandas/core/indexes/base.py\", line 3812, in get_loc\\n    raise KeyError(key) from err\\nKeyError: \\'Adj Close\\'\\n', 'role': 'assistant', 'name': 'user_proxy'}, {'content': 'The error indicates that the \\'Adj Close\\' column is not present in the data. This might be due to the structure of the data returned by `yfinance`. Let\\'s adjust the code to handle the data correctly.\\n\\nWe\\'ll check the structure of the data and use the correct column names. Let\\'s fix the code:\\n\\n```python\\n# filename: ytd_gain.py\\n\\nimport yfinance as yf\\nfrom datetime import datetime\\n\\n# Define the stock symbols and the start date\\nstocks = [\\'META\\', \\'TSLA\\']\\nstart_date = \\'2025-01-01\\'\\nend_date = datetime.now().strftime(\\'%Y-%m-%d\\')\\n\\n# Fetch the stock data\\ndata = yf.download(stocks, start=start_date, end=end_date)\\n\\n# Check the structure of the data\\nprint(data.head())\\n\\n# Calculate the year-to-date gain\\nytd_gain = {}\\nfor stock in stocks:\\n    start_price = data[\\'Close\\'][stock].iloc[0]\\n    end_price = data[\\'Close\\'][stock].iloc[-1]\\n    gain = ((end_price - start_price) / start_price) * 100\\n    ytd_gain[stock] = gain\\n\\n# Print the year-to-date gain\\nfor stock, gain in ytd_gain.items():\\n    print(f\"Year-to-date gain for {stock}: {gain:.2f}%\")\\n```\\n\\nPlease save the code in a file named `ytd_gain.py` and execute it again. This time, it will print the structure of the data to ensure we are using the correct columns, and then calculate the year-to-date gain.', 'role': 'user', 'name': 'assistant'}, {'content': 'exitcode: 0 (execution succeeded)\\nCode output: \\n[                       0%                       ]\\n[*********************100%***********************]  2 of 2 completed\\nPrice            Close                    High  ...        Open    Volume           \\nTicker            META        TSLA        META  ...        TSLA      META       TSLA\\nDate                                            ...                                 \\n2025-01-02  599.239990  379.279999  604.909973  ...  390.100006  12682300  109710700\\n2025-01-03  604.630005  410.440002  609.500000  ...  381.480011  11436800   95423300\\n2025-01-06  630.200012  411.049988  630.989990  ...  423.200012  14560800   85516500\\n2025-01-07  617.890015  394.359985  632.099976  ...  405.829987  12071500   75699500\\n2025-01-08  610.719971  394.940002  616.440002  ...  392.950012  10085800   73038800\\n\\n[5 rows x 10 columns]\\nYear-to-date gain for META: 2.77%\\nYear-to-date gain for TSLA: 4.08%\\n', 'role': 'assistant', 'name': 'user_proxy'}, {'content': 'The code executed successfully, and we have the year-to-date gains for both META and TESLA:\\n\\n- **META (Meta Platforms, Inc.)**: 2.77%\\n- **TESLA (Tesla, Inc.)**: 4.08%\\n\\nThis means that from January 1, 2025, to January 11, 2025, TESLA has experienced a higher percentage gain compared to META.\\n\\nIf you have any more questions or need further assistance, feel free to ask. TERMINATE', 'role': 'user', 'name': 'assistant'}]\n",
            "Summary :  The user wanted to compare the year-to-date gains for META and TESLA as of January 11, 2025. After fetching and analyzing the stock data using Python and the `yfinance` library, it was determined that TESLA had a year-to-date gain of 4.08%, while META had a gain of 2.77%. TESLA experienced a higher percentage gain compared to META during this period.\n",
            "Cost Info :  {'usage_including_cached_inference': {'total_cost': 0.0268425, 'gpt-4o-2024-08-06': {'cost': 0.0268425, 'prompt_tokens': 6745, 'completion_tokens': 998, 'total_tokens': 7743}}, 'usage_excluding_cached_inference': {'total_cost': 0.0268425, 'gpt-4o-2024-08-06': {'cost': 0.0268425, 'prompt_tokens': 6745, 'completion_tokens': 998, 'total_tokens': 7743}}}\n"
          ]
        }
      ]
    },
    {
      "cell_type": "code",
      "source": [
        "#Example  - Plot chart\n",
        "#plotting for the last question\n",
        "user_proxy.send(\n",
        "    recipient = assistant,\n",
        "    message=\"\"\"Plot a chart of their stock price change YTD. Save the data to stock_price_ytd.csv, and save the plot to stock_price_ytd.png.\"\"\",\n",
        "\n",
        ")"
      ],
      "metadata": {
        "colab": {
          "base_uri": "https://localhost:8080/"
        },
        "id": "nPw2AyKGM21K",
        "outputId": "874d293f-75b0-4a77-a2c4-2abd98a423bc"
      },
      "execution_count": 10,
      "outputs": [
        {
          "output_type": "stream",
          "name": "stdout",
          "text": [
            "user_proxy (to assistant):\n",
            "\n",
            "Plot a chart of their stock price change YTD. Save the data to stock_price_ytd.csv, and save the plot to stock_price_ytd.png.\n",
            "\n",
            "--------------------------------------------------------------------------------\n",
            "assistant (to user_proxy):\n",
            "\n",
            "To plot a chart of the stock price changes year-to-date (YTD) for META and TESLA, and save the data to a CSV file and the plot to a PNG file, we can follow these steps:\n",
            "\n",
            "1. **Fetch the stock data**: We already have the stock data from the previous step.\n",
            "2. **Save the data to a CSV file**: We'll save the relevant stock price data to `stock_price_ytd.csv`.\n",
            "3. **Plot the stock price changes**: We'll create a line plot showing the stock price changes for both META and TESLA.\n",
            "4. **Save the plot to a PNG file**: We'll save the plot as `stock_price_ytd.png`.\n",
            "\n",
            "Let's implement this in the code:\n",
            "\n",
            "```python\n",
            "# filename: stock_price_ytd.py\n",
            "\n",
            "import yfinance as yf\n",
            "import pandas as pd\n",
            "import matplotlib.pyplot as plt\n",
            "from datetime import datetime\n",
            "\n",
            "# Define the stock symbols and the start date\n",
            "stocks = ['META', 'TSLA']\n",
            "start_date = '2025-01-01'\n",
            "end_date = datetime.now().strftime('%Y-%m-%d')\n",
            "\n",
            "# Fetch the stock data\n",
            "data = yf.download(stocks, start=start_date, end=end_date)['Close']\n",
            "\n",
            "# Save the data to a CSV file\n",
            "data.to_csv('stock_price_ytd.csv')\n",
            "\n",
            "# Plot the stock price changes\n",
            "plt.figure(figsize=(10, 6))\n",
            "for stock in stocks:\n",
            "    plt.plot(data.index, data[stock], label=stock)\n",
            "\n",
            "plt.title('Year-to-Date Stock Price Change')\n",
            "plt.xlabel('Date')\n",
            "plt.ylabel('Stock Price (USD)')\n",
            "plt.legend()\n",
            "plt.grid(True)\n",
            "\n",
            "# Save the plot to a PNG file\n",
            "plt.savefig('stock_price_ytd.png')\n",
            "\n",
            "# Show the plot\n",
            "plt.show()\n",
            "```\n",
            "\n",
            "Please save the code in a file named `stock_price_ytd.py` and execute it. This will save the stock price data to `stock_price_ytd.csv` and the plot to `stock_price_ytd.png`, and display the plot.\n",
            "\n",
            "--------------------------------------------------------------------------------\n",
            "\n",
            ">>>>>>>> EXECUTING CODE BLOCK (inferred language is python)...\n",
            "user_proxy (to assistant):\n",
            "\n",
            "exitcode: 0 (execution succeeded)\n",
            "Code output: \n",
            "[                       0%                       ]\n",
            "[*********************100%***********************]  2 of 2 completed\n",
            "Figure(1000x600)\n",
            "\n",
            "\n",
            "--------------------------------------------------------------------------------\n",
            "assistant (to user_proxy):\n",
            "\n",
            "The code executed successfully, and the following tasks have been completed:\n",
            "\n",
            "1. The stock price data for META and TESLA from January 1, 2025, to January 11, 2025, has been saved to `stock_price_ytd.csv`.\n",
            "2. A plot of the year-to-date stock price changes has been saved to `stock_price_ytd.png`.\n",
            "3. The plot was displayed, showing the stock price changes for both META and TESLA.\n",
            "\n",
            "If you need any more assistance or have further questions, feel free to ask. TERMINATE\n",
            "\n",
            "--------------------------------------------------------------------------------\n"
          ]
        }
      ]
    },
    {
      "cell_type": "code",
      "source": [
        "#lets display the generated figure\n",
        "try:\n",
        "  image = Image(filename=\"coding/stock_price_ytd.png\")\n",
        "  display(image)\n",
        "except FileNotFoundError:\n",
        "  print(\"Image is not found. Please check the file name and modify the necessary.\")\n",
        ""
      ],
      "metadata": {
        "colab": {
          "base_uri": "https://localhost:8080/",
          "height": 617
        },
        "id": "iBWYLJdrNrpj",
        "outputId": "f387b80f-e053-4863-9a13-c5a4e4ccb7d2"
      },
      "execution_count": 11,
      "outputs": [
        {
          "output_type": "display_data",
          "data": {
            "image/png": "[encoded data removed]",
            "text/plain": [
              "<IPython.core.display.Image object>"
            ]
          },
          "metadata": {}
        }
      ]
    },
    {
      "cell_type": "code",
      "source": [
        "#Displaying the raw data collected and saved from the previous chat\n",
        "file_path = \"coding/stock_price_ytd.csv\"\n",
        "try:\n",
        "    with open(file_path,mode=\"r\",encoding=\"utf-8\") as file:\n",
        "      #read each line in the path\n",
        "      for line in file:\n",
        "        #splitting the line into list using comma and separator\n",
        "        row = line.strip().split(\",\")\n",
        "        #printing the row\n",
        "        print(row)\n",
        "\n",
        "except FileNotFoundError:\n",
        "  print(\"File not found . Please check the file name and modify accordingly\")"
      ],
      "metadata": {
        "colab": {
          "base_uri": "https://localhost:8080/"
        },
        "id": "jN8R5i5YO14p",
        "outputId": "e6546a87-9061-43eb-d316-c583ae5f77f6"
      },
      "execution_count": 13,
      "outputs": [
        {
          "output_type": "stream",
          "name": "stdout",
          "text": [
            "['Date', 'META', 'TSLA']\n",
            "['2025-01-02', '599.239990234375', '379.2799987792969']\n",
            "['2025-01-03', '604.6300048828125', '410.44000244140625']\n",
            "['2025-01-06', '630.2000122070312', '411.04998779296875']\n",
            "['2025-01-07', '617.8900146484375', '394.3599853515625']\n",
            "['2025-01-08', '610.719970703125', '394.94000244140625']\n",
            "['2025-01-10', '615.8599853515625', '394.739990234375']\n"
          ]
        }
      ]
    },
    {
      "cell_type": "code",
      "source": [
        "#Example 2 - Use User defined message function to let analyze data collected\n",
        "#this example demonstrates creating a custom message generator function taht read a raw data from a file and format a message for the agents to analyze the data and draft a blog post\n",
        "def my_message_generator(sender , recipient , context):\n",
        "  #giving the path of my csv file\n",
        "  file_name = \"coding/stock_price_ytd.csv\"\n",
        "  try:\n",
        "      with open(file_name , mode=\"r\" , encoding=\"utf-8\") as file :\n",
        "        file_content = file.read()\n",
        "  except:\n",
        "      file_content = \"File Not Found\",\n",
        "  return \"Analyze the data and write the brief but engaing blog post. \\n Data : \\n \" +file_content\n",
        "\n",
        "#following the previous question\n",
        "chat_res = user_proxy.initiate_chat(\n",
        "    recipient = assistant,\n",
        "    message = my_message_generator,\n",
        "    file_name = \"coding/stock_price_ytd.csv\",\n",
        "    summary_method = \"reflection_with_llm\",\n",
        "    summary_args = {\"Summary Prompt\" : \"Return the blog post in markdown format.\"},\n",
        "\n",
        ")"
      ],
      "metadata": {
        "colab": {
          "base_uri": "https://localhost:8080/"
        },
        "id": "uYRlcsNJP6Jr",
        "outputId": "1452e0e1-9d45-4afe-9936-4dce2a7f1296"
      },
      "execution_count": 16,
      "outputs": [
        {
          "output_type": "stream",
          "name": "stdout",
          "text": [
            "user_proxy (to assistant):\n",
            "\n",
            "Analyze the data and write the brief but engaing blog post. \n",
            " Data : \n",
            " Date,META,TSLA\n",
            "2025-01-02,599.239990234375,379.2799987792969\n",
            "2025-01-03,604.6300048828125,410.44000244140625\n",
            "2025-01-06,630.2000122070312,411.04998779296875\n",
            "2025-01-07,617.8900146484375,394.3599853515625\n",
            "2025-01-08,610.719970703125,394.94000244140625\n",
            "2025-01-10,615.8599853515625,394.739990234375\n",
            "\n",
            "\n",
            "--------------------------------------------------------------------------------\n",
            "assistant (to user_proxy):\n",
            "\n",
            "To analyze the data and write an engaging blog post, let's first examine the trends and key points in the data provided. The data includes stock prices for META and TSLA over a few days in January 2025. Here's a step-by-step plan:\n",
            "\n",
            "1. **Data Analysis**: Identify trends, peaks, and any significant changes in the stock prices for both META and TSLA.\n",
            "\n",
            "2. **Blog Post Writing**: Use the analysis to craft a brief and engaging blog post.\n",
            "\n",
            "### Step 1: Data Analysis\n",
            "\n",
            "- **META Stock Analysis**:\n",
            "  - The price starts at $599.24 on January 2nd and peaks at $630.20 on January 6th.\n",
            "  - After reaching the peak, the price slightly declines to $610.72 by January 8th and then stabilizes around $615.86 by January 10th.\n",
            "\n",
            "- **TSLA Stock Analysis**:\n",
            "  - The price starts at $379.28 on January 2nd and jumps to $410.44 by January 3rd.\n",
            "  - It remains relatively stable around $411.05 on January 6th, then drops to $394.36 on January 7th.\n",
            "  - The price stabilizes around $394.74 by January 10th.\n",
            "\n",
            "### Step 2: Blog Post Writing\n",
            "\n",
            "**Title: A Rollercoaster Week for META and TSLA Stocks in January 2025**\n",
            "\n",
            "As we stepped into the new year, the stock market presented a thrilling ride for investors, particularly those with stakes in META and TSLA. The first week of January 2025 was marked by significant fluctuations, reflecting the dynamic nature of the tech and automotive sectors.\n",
            "\n",
            "META's stock opened the year at $599.24, quickly gaining momentum to reach a peak of $630.20 by January 6th. This surge was likely fueled by investor optimism and potential strategic announcements. However, the excitement was short-lived as the stock experienced a slight correction, settling at $615.86 by the end of the week. This stabilization suggests a cautious optimism among investors, balancing between growth prospects and market realities.\n",
            "\n",
            "On the other hand, TSLA's stock showcased a dramatic leap from $379.28 to $410.44 within a day, capturing the attention of market watchers. This spike could be attributed to positive news or developments in the electric vehicle space. Despite this initial excitement, TSLA's stock faced a downward adjustment, stabilizing around $394.74. This pattern indicates a market recalibration, as investors digest the rapid changes and reassess the company's valuation.\n",
            "\n",
            "In summary, the first week of January 2025 was a testament to the volatile yet exciting nature of stock investments. Both META and TSLA demonstrated resilience and adaptability, leaving investors eager to see what the rest of the year holds. As always, staying informed and agile remains key in navigating the ever-evolving stock market landscape.\n",
            "\n",
            "TERMINATE\n",
            "\n",
            "--------------------------------------------------------------------------------\n"
          ]
        }
      ]
    },
    {
      "cell_type": "code",
      "source": [
        "print(chat_res.summary)"
      ],
      "metadata": {
        "colab": {
          "base_uri": "https://localhost:8080/"
        },
        "id": "5BOe7wGeSSCx",
        "outputId": "0102663d-307c-42fe-c53c-716973a858b1"
      },
      "execution_count": 18,
      "outputs": [
        {
          "output_type": "stream",
          "name": "stdout",
          "text": [
            "The blog post analyzes the stock price trends of META and TSLA in early January 2025, highlighting significant fluctuations. META's stock peaked at $630.20 before stabilizing around $615.86, indicating cautious investor optimism. TSLA's stock saw a dramatic rise to $410.44, followed by a stabilization around $394.74, reflecting market recalibration. The post emphasizes the volatile nature of stock investments and the importance of staying informed and adaptable.\n"
          ]
        }
      ]
    },
    {
      "cell_type": "code",
      "source": [
        "#Finally we are giving a comperative analysis of META and TESLA stocks in early 2024\n",
        "print(chat_res.cost)"
      ],
      "metadata": {
        "colab": {
          "base_uri": "https://localhost:8080/"
        },
        "id": "cXVcFqRchq-k",
        "outputId": "47d7548f-276b-4c3c-e6b3-5949241408b1"
      },
      "execution_count": 19,
      "outputs": [
        {
          "output_type": "stream",
          "name": "stdout",
          "text": [
            "{'usage_including_cached_inference': {'total_cost': 0.0553325, 'gpt-4o-2024-08-06': {'cost': 0.0553325, 'prompt_tokens': 13285, 'completion_tokens': 2212, 'total_tokens': 15497}}, 'usage_excluding_cached_inference': {'total_cost': 0.0553325, 'gpt-4o-2024-08-06': {'cost': 0.0553325, 'prompt_tokens': 13285, 'completion_tokens': 2212, 'total_tokens': 15497}}}\n"
          ]
        }
      ]
    },
    {
      "cell_type": "code",
      "source": [],
      "metadata": {
        "id": "TD5GKnQdiQMV"
      },
      "execution_count": null,
      "outputs": []
    }
  ]
}