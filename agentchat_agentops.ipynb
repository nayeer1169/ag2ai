{
  "nbformat": 4,
  "nbformat_minor": 0,
  "metadata": {
    "colab": {
      "provenance": []
    },
    "kernelspec": {
      "name": "python3",
      "display_name": "Python 3"
    },
    "language_info": {
      "name": "python"
    }
  },
  "cells": [
    {
      "cell_type": "code",
      "source": [
        "!pip install agentops"
      ],
      "metadata": {
        "colab": {
          "base_uri": "https://localhost:8080/"
        },
        "id": "u6nWrWxcpkGZ",
        "outputId": "8ce16e0a-9f4e-4bf0-9b2c-b0248dd2a68c"
      },
      "execution_count": 1,
      "outputs": [
        {
          "output_type": "stream",
          "name": "stdout",
          "text": [
            "Requirement already satisfied: agentops in /usr/local/lib/python3.10/dist-packages (0.3.21)\n",
            "Requirement already satisfied: requests<3.0.0,>=2.0.0 in /usr/local/lib/python3.10/dist-packages (from agentops) (2.32.3)\n",
            "Requirement already satisfied: psutil<6.1.0,>=5.9.8 in /usr/local/lib/python3.10/dist-packages (from agentops) (6.0.0)\n",
            "Requirement already satisfied: termcolor<2.5.0,>=2.3.0 in /usr/local/lib/python3.10/dist-packages (from agentops) (2.4.0)\n",
            "Requirement already satisfied: PyYAML<7.0,>=5.3 in /usr/local/lib/python3.10/dist-packages (from agentops) (6.0.2)\n",
            "Requirement already satisfied: opentelemetry-api<2.0.0,>=1.22.0 in /usr/local/lib/python3.10/dist-packages (from agentops) (1.29.0)\n",
            "Requirement already satisfied: opentelemetry-sdk<2.0.0,>=1.22.0 in /usr/local/lib/python3.10/dist-packages (from agentops) (1.29.0)\n",
            "Requirement already satisfied: opentelemetry-exporter-otlp-proto-http<2.0.0,>=1.22.0 in /usr/local/lib/python3.10/dist-packages (from agentops) (1.29.0)\n",
            "Requirement already satisfied: deprecated>=1.2.6 in /usr/local/lib/python3.10/dist-packages (from opentelemetry-api<2.0.0,>=1.22.0->agentops) (1.2.15)\n",
            "Requirement already satisfied: importlib-metadata<=8.5.0,>=6.0 in /usr/local/lib/python3.10/dist-packages (from opentelemetry-api<2.0.0,>=1.22.0->agentops) (8.5.0)\n",
            "Requirement already satisfied: googleapis-common-protos~=1.52 in /usr/local/lib/python3.10/dist-packages (from opentelemetry-exporter-otlp-proto-http<2.0.0,>=1.22.0->agentops) (1.66.0)\n",
            "Requirement already satisfied: opentelemetry-exporter-otlp-proto-common==1.29.0 in /usr/local/lib/python3.10/dist-packages (from opentelemetry-exporter-otlp-proto-http<2.0.0,>=1.22.0->agentops) (1.29.0)\n",
            "Requirement already satisfied: opentelemetry-proto==1.29.0 in /usr/local/lib/python3.10/dist-packages (from opentelemetry-exporter-otlp-proto-http<2.0.0,>=1.22.0->agentops) (1.29.0)\n",
            "Requirement already satisfied: protobuf<6.0,>=5.0 in /usr/local/lib/python3.10/dist-packages (from opentelemetry-proto==1.29.0->opentelemetry-exporter-otlp-proto-http<2.0.0,>=1.22.0->agentops) (5.29.3)\n",
            "Requirement already satisfied: opentelemetry-semantic-conventions==0.50b0 in /usr/local/lib/python3.10/dist-packages (from opentelemetry-sdk<2.0.0,>=1.22.0->agentops) (0.50b0)\n",
            "Requirement already satisfied: typing-extensions>=3.7.4 in /usr/local/lib/python3.10/dist-packages (from opentelemetry-sdk<2.0.0,>=1.22.0->agentops) (4.12.2)\n",
            "Requirement already satisfied: charset-normalizer<4,>=2 in /usr/local/lib/python3.10/dist-packages (from requests<3.0.0,>=2.0.0->agentops) (3.4.1)\n",
            "Requirement already satisfied: idna<4,>=2.5 in /usr/local/lib/python3.10/dist-packages (from requests<3.0.0,>=2.0.0->agentops) (3.10)\n",
            "Requirement already satisfied: urllib3<3,>=1.21.1 in /usr/local/lib/python3.10/dist-packages (from requests<3.0.0,>=2.0.0->agentops) (2.3.0)\n",
            "Requirement already satisfied: certifi>=2017.4.17 in /usr/local/lib/python3.10/dist-packages (from requests<3.0.0,>=2.0.0->agentops) (2024.12.14)\n",
            "Requirement already satisfied: wrapt<2,>=1.10 in /usr/local/lib/python3.10/dist-packages (from deprecated>=1.2.6->opentelemetry-api<2.0.0,>=1.22.0->agentops) (1.17.0)\n",
            "Requirement already satisfied: zipp>=3.20 in /usr/local/lib/python3.10/dist-packages (from importlib-metadata<=8.5.0,>=6.0->opentelemetry-api<2.0.0,>=1.22.0->agentops) (3.21.0)\n"
          ]
        }
      ]
    },
    {
      "cell_type": "code",
      "source": [
        "!pip install autogen"
      ],
      "metadata": {
        "colab": {
          "base_uri": "https://localhost:8080/"
        },
        "id": "8WIXSkLbp1Wx",
        "outputId": "7ed4b50c-9d03-4225-b269-4f127aefff8d"
      },
      "execution_count": 2,
      "outputs": [
        {
          "output_type": "stream",
          "name": "stdout",
          "text": [
            "Requirement already satisfied: autogen in /usr/local/lib/python3.10/dist-packages (0.7.0)\n",
            "Requirement already satisfied: pyautogen==0.7.0 in /usr/local/lib/python3.10/dist-packages (from autogen) (0.7.0)\n",
            "Requirement already satisfied: asyncer==0.0.8 in /usr/local/lib/python3.10/dist-packages (from pyautogen==0.7.0->autogen) (0.0.8)\n",
            "Requirement already satisfied: diskcache in /usr/local/lib/python3.10/dist-packages (from pyautogen==0.7.0->autogen) (5.6.3)\n",
            "Requirement already satisfied: docker in /usr/local/lib/python3.10/dist-packages (from pyautogen==0.7.0->autogen) (7.1.0)\n",
            "Requirement already satisfied: fast-depends<3,>=2.4.12 in /usr/local/lib/python3.10/dist-packages (from pyautogen==0.7.0->autogen) (2.4.12)\n",
            "Requirement already satisfied: flaml in /usr/local/lib/python3.10/dist-packages (from pyautogen==0.7.0->autogen) (2.3.3)\n",
            "Requirement already satisfied: numpy<2.0.0,>=1.24.0 in /usr/local/lib/python3.10/dist-packages (from pyautogen==0.7.0->autogen) (1.26.4)\n",
            "Requirement already satisfied: openai>=1.58 in /usr/local/lib/python3.10/dist-packages (from pyautogen==0.7.0->autogen) (1.59.3)\n",
            "Requirement already satisfied: packaging in /usr/local/lib/python3.10/dist-packages (from pyautogen==0.7.0->autogen) (24.2)\n",
            "Requirement already satisfied: pydantic!=2.6.0,<3,>=1.10 in /usr/local/lib/python3.10/dist-packages (from pyautogen==0.7.0->autogen) (2.10.4)\n",
            "Requirement already satisfied: python-dotenv in /usr/local/lib/python3.10/dist-packages (from pyautogen==0.7.0->autogen) (1.0.1)\n",
            "Requirement already satisfied: termcolor in /usr/local/lib/python3.10/dist-packages (from pyautogen==0.7.0->autogen) (2.4.0)\n",
            "Requirement already satisfied: tiktoken in /usr/local/lib/python3.10/dist-packages (from pyautogen==0.7.0->autogen) (0.8.0)\n",
            "Requirement already satisfied: websockets<15,>=14 in /usr/local/lib/python3.10/dist-packages (from pyautogen==0.7.0->autogen) (14.1)\n",
            "Requirement already satisfied: anyio<5.0,>=3.4.0 in /usr/local/lib/python3.10/dist-packages (from asyncer==0.0.8->pyautogen==0.7.0->autogen) (3.7.1)\n",
            "Requirement already satisfied: distro<2,>=1.7.0 in /usr/local/lib/python3.10/dist-packages (from openai>=1.58->pyautogen==0.7.0->autogen) (1.9.0)\n",
            "Requirement already satisfied: httpx<1,>=0.23.0 in /usr/local/lib/python3.10/dist-packages (from openai>=1.58->pyautogen==0.7.0->autogen) (0.28.1)\n",
            "Requirement already satisfied: jiter<1,>=0.4.0 in /usr/local/lib/python3.10/dist-packages (from openai>=1.58->pyautogen==0.7.0->autogen) (0.8.2)\n",
            "Requirement already satisfied: sniffio in /usr/local/lib/python3.10/dist-packages (from openai>=1.58->pyautogen==0.7.0->autogen) (1.3.1)\n",
            "Requirement already satisfied: tqdm>4 in /usr/local/lib/python3.10/dist-packages (from openai>=1.58->pyautogen==0.7.0->autogen) (4.67.1)\n",
            "Requirement already satisfied: typing-extensions<5,>=4.11 in /usr/local/lib/python3.10/dist-packages (from openai>=1.58->pyautogen==0.7.0->autogen) (4.12.2)\n",
            "Requirement already satisfied: annotated-types>=0.6.0 in /usr/local/lib/python3.10/dist-packages (from pydantic!=2.6.0,<3,>=1.10->pyautogen==0.7.0->autogen) (0.7.0)\n",
            "Requirement already satisfied: pydantic-core==2.27.2 in /usr/local/lib/python3.10/dist-packages (from pydantic!=2.6.0,<3,>=1.10->pyautogen==0.7.0->autogen) (2.27.2)\n",
            "Requirement already satisfied: requests>=2.26.0 in /usr/local/lib/python3.10/dist-packages (from docker->pyautogen==0.7.0->autogen) (2.32.3)\n",
            "Requirement already satisfied: urllib3>=1.26.0 in /usr/local/lib/python3.10/dist-packages (from docker->pyautogen==0.7.0->autogen) (2.3.0)\n",
            "Requirement already satisfied: regex>=2022.1.18 in /usr/local/lib/python3.10/dist-packages (from tiktoken->pyautogen==0.7.0->autogen) (2024.11.6)\n",
            "Requirement already satisfied: idna>=2.8 in /usr/local/lib/python3.10/dist-packages (from anyio<5.0,>=3.4.0->asyncer==0.0.8->pyautogen==0.7.0->autogen) (3.10)\n",
            "Requirement already satisfied: exceptiongroup in /usr/local/lib/python3.10/dist-packages (from anyio<5.0,>=3.4.0->asyncer==0.0.8->pyautogen==0.7.0->autogen) (1.2.2)\n",
            "Requirement already satisfied: certifi in /usr/local/lib/python3.10/dist-packages (from httpx<1,>=0.23.0->openai>=1.58->pyautogen==0.7.0->autogen) (2024.12.14)\n",
            "Requirement already satisfied: httpcore==1.* in /usr/local/lib/python3.10/dist-packages (from httpx<1,>=0.23.0->openai>=1.58->pyautogen==0.7.0->autogen) (1.0.7)\n",
            "Requirement already satisfied: h11<0.15,>=0.13 in /usr/local/lib/python3.10/dist-packages (from httpcore==1.*->httpx<1,>=0.23.0->openai>=1.58->pyautogen==0.7.0->autogen) (0.14.0)\n",
            "Requirement already satisfied: charset-normalizer<4,>=2 in /usr/local/lib/python3.10/dist-packages (from requests>=2.26.0->docker->pyautogen==0.7.0->autogen) (3.4.1)\n"
          ]
        }
      ]
    },
    {
      "cell_type": "code",
      "source": [],
      "metadata": {
        "id": "zwRaY7Hlp1Ix"
      },
      "execution_count": 2,
      "outputs": []
    },
    {
      "cell_type": "code",
      "execution_count": 3,
      "metadata": {
        "colab": {
          "base_uri": "https://localhost:8080/"
        },
        "id": "5V1RGyU1m6S2",
        "outputId": "df832570-3c8e-4ede-8162-a7339b205374"
      },
      "outputs": [
        {
          "output_type": "stream",
          "name": "stderr",
          "text": [
            "/usr/local/lib/python3.10/dist-packages/dask/dataframe/__init__.py:42: FutureWarning: \n",
            "Dask dataframe query planning is disabled because dask-expr is not installed.\n",
            "\n",
            "You can install it with `pip install dask[dataframe]` or `conda install dask`.\n",
            "This will raise in a future version.\n",
            "\n",
            "  warnings.warn(msg, FutureWarning)\n",
            "🖇 AgentOps: \u001b[34mSession Replay: https://app.agentops.ai/drilldown?session_id=391e3b2d-2c65-4e87-a487-5b3063802e54\u001b[0m\n"
          ]
        },
        {
          "output_type": "execute_result",
          "data": {
            "text/plain": [
              "<agentops.session.Session at 0x79de9aa323b0>"
            ]
          },
          "metadata": {},
          "execution_count": 3
        }
      ],
      "source": [
        "import agentops\n",
        "\n",
        "from autogen import ConversableAgent , UserProxyAgent , config_list_from_json\n",
        "\n",
        "agentops.init(api_key=\"...\")"
      ]
    },
    {
      "cell_type": "code",
      "source": [
        "#Simple Chat Example\n",
        "import agentops\n",
        "\n",
        "agentops.init(tags=[\"Autogen_Example\"]) #this tag is optional just to help filter session\n",
        "\n",
        "#creating the agent that will use the llm\n",
        "config_list = config_list_from_json(env_or_file=\"OAI_CONFIG_LIST.json\")\n",
        "assistant = ConversableAgent(\"agent\", llm_config={\"config_list\": config_list})\n",
        "\n",
        "#Creating the agent that will use the user in the conversation\n",
        "user_proxy = UserProxyAgent(\"user\" , code_execution_config=False)\n",
        "\n",
        "#In the next process letting the assistant start the process\n",
        "assistant.initiate_chat(user_proxy, message = \"How can i help you\")\n",
        "\n",
        "#closing the agentops session just to indicate that the process is completed\n",
        "agentops.end_session(\"Success\")"
      ],
      "metadata": {
        "colab": {
          "base_uri": "https://localhost:8080/"
        },
        "id": "MCFwva2IqHvv",
        "outputId": "b4d84b4f-304e-4071-cd2e-6cd897af345a"
      },
      "execution_count": 4,
      "outputs": [
        {
          "output_type": "stream",
          "name": "stderr",
          "text": [
            "🖇 AgentOps: AgentOps has already been initialized. If you are trying to start a session, call agentops.start_session() instead.\n"
          ]
        },
        {
          "name": "stdout",
          "output_type": "stream",
          "text": [
            "agent (to user):\n",
            "\n",
            "How can i help you\n",
            "\n",
            "--------------------------------------------------------------------------------\n",
            "Replying as user. Provide feedback to agent. Press enter to skip and use auto-reply, or type 'exit' to end the conversation: who is virat kohli ?\n",
            "user (to agent):\n",
            "\n",
            "who is virat kohli ?\n",
            "\n",
            "--------------------------------------------------------------------------------\n",
            "\n",
            ">>>>>>>> USING AUTO REPLY...\n",
            "agent (to user):\n",
            "\n",
            "Virat Kohli is an Indian cricketer and one of the most prominent figures in international cricket. Born on November 5, 1988, in Delhi, India, Kohli is known for his aggressive batting style, remarkable consistency, and leadership abilities.\n",
            "\n",
            "He made his debut for the Indian national team in 2008 and quickly established himself as one of the top batsmen in the world. Kohli has set numerous records, including being one of the fastest players to reach various milestones in One Day Internationals (ODIs) and T20s. He has been the captain of the Indian cricket team in all three formats and led the team to significant successes, including a historic Test series win in Australia.\n",
            "\n",
            "In addition to his international career, Kohli has been a key player in the Indian Premier League (IPL), where he captains the Royal Challengers Bangalore (RCB). Off the field, he is known for his philanthropic efforts and business ventures, including fitness brands and other endorsements.\n",
            "\n",
            "Kohli has received several awards for his cricketing prowess, including the ICC Cricketer of the Year award and numerous accolades at the national level. He is also a prominent figure in sports and popular culture in India and around the world.\n",
            "\n",
            "--------------------------------------------------------------------------------\n",
            "Replying as user. Provide feedback to agent. Press enter to skip and use auto-reply, or type 'exit' to end the conversation: exit\n"
          ]
        },
        {
          "output_type": "stream",
          "name": "stderr",
          "text": [
            "🖇 AgentOps: Session Stats - Duration: 28.7s | Cost: $0.000157 | LLMs: 1 | Tools: 0 | Actions: 0 | Errors: 0\n",
            "🖇 AgentOps: \u001b[34mSession Replay: https://app.agentops.ai/drilldown?session_id=391e3b2d-2c65-4e87-a487-5b3063802e54\u001b[0m\n"
          ]
        }
      ]
    },
    {
      "cell_type": "code",
      "source": [
        "!pip install typing"
      ],
      "metadata": {
        "colab": {
          "base_uri": "https://localhost:8080/"
        },
        "id": "OTPTVuHDw_PQ",
        "outputId": "b63db930-840a-48d5-b4e0-cfaed4b8a134"
      },
      "execution_count": 5,
      "outputs": [
        {
          "output_type": "stream",
          "name": "stdout",
          "text": [
            "Requirement already satisfied: typing in /usr/local/lib/python3.10/dist-packages (3.7.4.3)\n"
          ]
        }
      ]
    },
    {
      "cell_type": "code",
      "source": [
        "#Tool Example\n",
        "from typing import Annotated , Literal #used for type annotations in Python.\n",
        "from autogen import ConversableAgent , UserProxyAgent , config_list_from_json , register_function #enabling the creation of agents and function registration for interaction.\n",
        "\n",
        "agentops.start_session(tags=[\"Autogen_Example\"]) #This line starts a session with agentops\n",
        "\n",
        "Operator = Literal[\"+\" , \"-\" , \"*\" , \"/\"] #our basic arithmetic operators\n",
        "\n",
        "def calculator(a:int, b:int, operator: Annotated[Operator, \"operator\"]) -> int:\n",
        "  if operator == \"+\":\n",
        "    return a+b;\n",
        "  elif operator == \"-\":\n",
        "    return a-b;\n",
        "  elif operator == \"*\":\n",
        "    return a*b;\n",
        "  elif operator == \"/\":\n",
        "    return a/b;\n",
        "  else:\n",
        "    return ValueError(\"Invalid Operator\")\n",
        "\n",
        "config_list = config_list_from_json(env_or_file=\"OAI_CONFIG_LIST.json\") #This line loads a configuration list from a JSON file named\n",
        "\n",
        "\n",
        "#creating the agent that willl use the llm\n",
        "assistant = ConversableAgent(\n",
        "    name=\"assistant\",\n",
        "    system_message=\"You are a helpful assistant\"\n",
        "    \"You can help with simple calculations\"\n",
        "    \"Return 'TERMINATE' when task is done\",\n",
        "    llm_config={\"config_list\" : config_list},\n",
        ")\n",
        "\n",
        "#calling the user proxy agent fopr interacting with the assiastant agent\n",
        "user_proxy =ConversableAgent(\n",
        "    name=\"user\",\n",
        "    llm_config=False,\n",
        "    is_termination_msg=lambda msg:msg.get(\"content\") is not None and \"TERMINATE\" in msg[\"content\"],\n",
        "    human_input_mode= \"NEVER\",\n",
        ")\n",
        "\n",
        "assistant.register_for_llm(name=\"calculator\", description=\"A Simple Calculator\")(calculator) #Registers calculator function with the assistant for generating responses using LLM\n",
        "user_proxy.register_for_execution(name=\"calculator\")(calculator) #Registers calculator function with the user proxy to execute it.\n",
        "\n",
        "#registering the calculator funciton to the two function\n",
        "register_function(\n",
        "    calculator,\n",
        "    caller=assistant,\n",
        "    executor=user_proxy,\n",
        "    name=\"calculator\",\n",
        "    description=\"A SImple Calculator\",\n",
        ")\n",
        "\n",
        "#the assitant will start the coversation\n",
        "user_proxy.initiate_chat(assistant ,  message = \"(1520−220)/4+(45+18)∗6?\")\n",
        "\n",
        "agentops.end_session(\"success\")"
      ],
      "metadata": {
        "colab": {
          "base_uri": "https://localhost:8080/"
        },
        "id": "CfBJMaIutBFX",
        "outputId": "4a24be0a-5281-4c4e-a9af-baefc8f93c38"
      },
      "execution_count": 16,
      "outputs": [
        {
          "output_type": "stream",
          "name": "stderr",
          "text": [
            "🖇 AgentOps: \u001b[34mSession Replay: https://app.agentops.ai/drilldown?session_id=05509814-094f-4470-a3af-19f2b2dcdc28\u001b[0m\n"
          ]
        },
        {
          "output_type": "stream",
          "name": "stdout",
          "text": [
            "user (to assistant):\n",
            "\n",
            "(1520−220)/4+(45+18)∗6?\n",
            "\n",
            "--------------------------------------------------------------------------------\n",
            "\n",
            ">>>>>>>> USING AUTO REPLY...\n"
          ]
        },
        {
          "output_type": "stream",
          "name": "stderr",
          "text": [
            "/usr/local/lib/python3.10/dist-packages/autogen/agentchat/conversable_agent.py:2596: UserWarning: Function 'calculator' is being overridden.\n",
            "  warnings.warn(f\"Function '{tool_sig['function']['name']}' is being overridden.\", UserWarning)\n",
            "/usr/local/lib/python3.10/dist-packages/autogen/agentchat/conversable_agent.py:2514: UserWarning: Function 'calculator' is being overridden.\n",
            "  warnings.warn(f\"Function '{name}' is being overridden.\", UserWarning)\n",
            "🖇 AgentOps: Multiple sessions detected. You must use session.record(). More info: https://docs.agentops.ai/v1/concepts/core-concepts#session-management\n",
            "\u001b[31;1m🖇 AgentOps: Could not record event. Start a session by calling agentops.start_session().\u001b[0m\n"
          ]
        },
        {
          "output_type": "stream",
          "name": "stdout",
          "text": [
            "assistant (to user):\n",
            "\n",
            "***** Suggested tool call (call_pJBuJHrceIioa1HkDcd1ZxoQ): calculator *****\n",
            "Arguments: \n",
            "{\"a\": 1520, \"b\": 220, \"operator\": \"-\"}\n",
            "***************************************************************************\n",
            "***** Suggested tool call (call_BZRT66mgcgeMXUyiBs7Ubw7D): calculator *****\n",
            "Arguments: \n",
            "{\"a\": 45, \"b\": 18, \"operator\": \"+\"}\n",
            "***************************************************************************\n",
            "\n",
            "--------------------------------------------------------------------------------\n",
            "\n",
            ">>>>>>>> EXECUTING FUNCTION calculator...\n",
            "Call ID: call_pJBuJHrceIioa1HkDcd1ZxoQ\n",
            "Input arguments: {'a': 1520, 'b': 220, 'operator': '-'}\n",
            "\n",
            ">>>>>>>> EXECUTING FUNCTION calculator...\n",
            "Call ID: call_BZRT66mgcgeMXUyiBs7Ubw7D\n",
            "Input arguments: {'a': 45, 'b': 18, 'operator': '+'}\n",
            "user (to assistant):\n",
            "\n",
            "***** Response from calling tool (call_pJBuJHrceIioa1HkDcd1ZxoQ) *****\n",
            "1300\n",
            "**********************************************************************\n",
            "\n",
            "--------------------------------------------------------------------------------\n",
            "***** Response from calling tool (call_BZRT66mgcgeMXUyiBs7Ubw7D) *****\n",
            "63\n",
            "**********************************************************************\n",
            "\n",
            "--------------------------------------------------------------------------------\n",
            "\n",
            ">>>>>>>> USING AUTO REPLY...\n"
          ]
        },
        {
          "output_type": "stream",
          "name": "stderr",
          "text": [
            "🖇 AgentOps: Multiple sessions detected. You must use session.record(). More info: https://docs.agentops.ai/v1/concepts/core-concepts#session-management\n",
            "\u001b[31;1m🖇 AgentOps: Could not record event. Start a session by calling agentops.start_session().\u001b[0m\n"
          ]
        },
        {
          "output_type": "stream",
          "name": "stdout",
          "text": [
            "assistant (to user):\n",
            "\n",
            "***** Suggested tool call (call_XfutPDlqAof5sGAXFaT1bdon): calculator *****\n",
            "Arguments: \n",
            "{\"a\":1300,\"b\":4,\"operator\":\"/\"}\n",
            "***************************************************************************\n",
            "\n",
            "--------------------------------------------------------------------------------\n",
            "\n",
            ">>>>>>>> EXECUTING FUNCTION calculator...\n",
            "Call ID: call_XfutPDlqAof5sGAXFaT1bdon\n",
            "Input arguments: {'a': 1300, 'b': 4, 'operator': '/'}\n",
            "user (to assistant):\n",
            "\n",
            "***** Response from calling tool (call_XfutPDlqAof5sGAXFaT1bdon) *****\n",
            "325\n",
            "**********************************************************************\n",
            "\n",
            "--------------------------------------------------------------------------------\n",
            "\n",
            ">>>>>>>> USING AUTO REPLY...\n"
          ]
        },
        {
          "output_type": "stream",
          "name": "stderr",
          "text": [
            "🖇 AgentOps: Multiple sessions detected. You must use session.record(). More info: https://docs.agentops.ai/v1/concepts/core-concepts#session-management\n",
            "\u001b[31;1m🖇 AgentOps: Could not record event. Start a session by calling agentops.start_session().\u001b[0m\n"
          ]
        },
        {
          "output_type": "stream",
          "name": "stdout",
          "text": [
            "assistant (to user):\n",
            "\n",
            "***** Suggested tool call (call_w4M3Zx0PDfYglEfLgotUa9qF): calculator *****\n",
            "Arguments: \n",
            "{\"a\":63,\"b\":6,\"operator\":\"*\"}\n",
            "***************************************************************************\n",
            "\n",
            "--------------------------------------------------------------------------------\n",
            "\n",
            ">>>>>>>> EXECUTING FUNCTION calculator...\n",
            "Call ID: call_w4M3Zx0PDfYglEfLgotUa9qF\n",
            "Input arguments: {'a': 63, 'b': 6, 'operator': '*'}\n",
            "user (to assistant):\n",
            "\n",
            "***** Response from calling tool (call_w4M3Zx0PDfYglEfLgotUa9qF) *****\n",
            "378\n",
            "**********************************************************************\n",
            "\n",
            "--------------------------------------------------------------------------------\n",
            "\n",
            ">>>>>>>> USING AUTO REPLY...\n"
          ]
        },
        {
          "output_type": "stream",
          "name": "stderr",
          "text": [
            "🖇 AgentOps: Multiple sessions detected. You must use session.record(). More info: https://docs.agentops.ai/v1/concepts/core-concepts#session-management\n",
            "\u001b[31;1m🖇 AgentOps: Could not record event. Start a session by calling agentops.start_session().\u001b[0m\n"
          ]
        },
        {
          "output_type": "stream",
          "name": "stdout",
          "text": [
            "assistant (to user):\n",
            "\n",
            "***** Suggested tool call (call_FShMwdSCGO4bLyWp1PHnOjr9): calculator *****\n",
            "Arguments: \n",
            "{\"a\":325,\"b\":378,\"operator\":\"+\"}\n",
            "***************************************************************************\n",
            "\n",
            "--------------------------------------------------------------------------------\n",
            "\n",
            ">>>>>>>> EXECUTING FUNCTION calculator...\n",
            "Call ID: call_FShMwdSCGO4bLyWp1PHnOjr9\n",
            "Input arguments: {'a': 325, 'b': 378, 'operator': '+'}\n",
            "user (to assistant):\n",
            "\n",
            "***** Response from calling tool (call_FShMwdSCGO4bLyWp1PHnOjr9) *****\n",
            "703\n",
            "**********************************************************************\n",
            "\n",
            "--------------------------------------------------------------------------------\n",
            "\n",
            ">>>>>>>> USING AUTO REPLY...\n"
          ]
        },
        {
          "output_type": "stream",
          "name": "stderr",
          "text": [
            "🖇 AgentOps: Multiple sessions detected. You must use session.record(). More info: https://docs.agentops.ai/v1/concepts/core-concepts#session-management\n",
            "\u001b[31;1m🖇 AgentOps: Could not record event. Start a session by calling agentops.start_session().\u001b[0m\n"
          ]
        },
        {
          "output_type": "stream",
          "name": "stdout",
          "text": [
            "assistant (to user):\n",
            "\n",
            "The final result of the expression (1520−220)/4+(45+18)∗6 is 703.\n",
            "\n",
            "TERMINATE\n",
            "\n",
            "--------------------------------------------------------------------------------\n"
          ]
        },
        {
          "output_type": "stream",
          "name": "stderr",
          "text": [
            "🖇 AgentOps: Could not end session - multiple sessions detected. You must use session.end_session() instead of agentops.end_session() More info: https://docs.agentops.ai/v1/concepts/core-concepts#session-management\n"
          ]
        }
      ]
    },
    {
      "cell_type": "code",
      "source": [],
      "metadata": {
        "id": "bkz-NEwXtAvP"
      },
      "execution_count": null,
      "outputs": []
    }
  ]
}